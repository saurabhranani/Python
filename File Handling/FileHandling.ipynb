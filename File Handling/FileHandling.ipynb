{
 "cells": [
  {
   "cell_type": "code",
   "execution_count": null,
   "metadata": {},
   "outputs": [],
   "source": [
    "#to access or create file - file.open()\n",
    "#Modes - r,w,a,r+,w+,a+,rb,wb,ab\n",
    "#b - binary , + - and (write or read)  "
   ]
  },
  {
   "cell_type": "code",
   "execution_count": null,
   "metadata": {},
   "outputs": [],
   "source": [
    "#syntax - \n",
    "\n",
    "#open(\"path\".mode , encode = \"utf.8\")\n",
    "#utf.8 - encoding method of python"
   ]
  },
  {
   "cell_type": "code",
   "execution_count": null,
   "metadata": {},
   "outputs": [],
   "source": [
    "open(\"d:\\\\IIHT\\\\data.txt\",mode=\"w\")"
   ]
  },
  {
   "cell_type": "code",
   "execution_count": null,
   "metadata": {},
   "outputs": [],
   "source": [
    "#write - w\n",
    "data = open(\"d:/IIHT/data.txt\",mode=\"w\")\n",
    "data.write(\"hello world\")\n",
    "data.close()"
   ]
  },
  {
   "cell_type": "code",
   "execution_count": null,
   "metadata": {},
   "outputs": [],
   "source": [
    "#read - r\n",
    "data = open(\"d:/IIHT/data.txt\",mode=\"r\")\n",
    "data1 = data.read()\n",
    "print(data1)\n",
    "data.close()"
   ]
  },
  {
   "cell_type": "code",
   "execution_count": null,
   "metadata": {},
   "outputs": [],
   "source": [
    "#append - a\n",
    "data = open(\"d:/IIHT/data.txt\",mode=\"a\")\n",
    "data.write(\"\\nHello world\")\n",
    "data.close()"
   ]
  },
  {
   "cell_type": "code",
   "execution_count": null,
   "metadata": {},
   "outputs": [],
   "source": [
    "#csv or excel file\n",
    "csv = open(\"d:/IIHT/csv.csv\",mode=\"w\")\n",
    "csv.write(\"name,rollno,batch,year,branch\")\n",
    "csv.close()"
   ]
  },
  {
   "cell_type": "code",
   "execution_count": null,
   "metadata": {},
   "outputs": [],
   "source": [
    "#html file\n",
    "html = open(\"d:/IIHT/html.html\",mode=\"w\")\n",
    "html.write(\"<html>\\n<body>\\n<h1>this is h1 heading</h1>\\n<h2>this is h2 heading</h2>\\n<h3>this is h3 heading</h3>\\n</body>\\n</html>\")\n",
    "html.close()"
   ]
  },
  {
   "cell_type": "code",
   "execution_count": 1,
   "metadata": {},
   "outputs": [
    {
     "name": "stdout",
     "output_type": "stream",
     "text": [
      "Enter student data :id name eng math sci\n",
      "Enter student data :1 sau 23 34 54\n",
      "Enter student data :2 dff 44 43 66\n",
      "Enter student data :3 sss 99 99 99\n",
      "Enter student data :4 dds 100 10 100\n"
     ]
    }
   ],
   "source": [
    "#taking input\n",
    "student = open(\"d:/IIHT/Student.txt\",mode = \"w\")\n",
    "for i in range(5) :\n",
    "    d = input(\"Enter student data :\").split()\n",
    "    d = \"\\t\".join(d)\n",
    "    d = d + \"\\n\"\n",
    "    student.write(d)\n",
    "student.close()"
   ]
  },
  {
   "cell_type": "code",
   "execution_count": 8,
   "metadata": {},
   "outputs": [
    {
     "name": "stdout",
     "output_type": "stream",
     "text": [
      "id\tname\teng\tmath\tsci\n",
      "1\tsau\t23\t34\t54\n",
      "2\tdff\t44\t43\t66\n",
      "3\tsss\t99\t99\t99\n",
      "4\tdds\t100\t10\t100\n",
      "\n",
      "'id\\tname\\teng\\tmath\\tsci\\n1\\tsau\\t23\\t34\\t54\\n2\\tdff\\t44\\t43\\t66\\n3\\tsss\\t99\\t99\\t99\\n4\\tdds\\t100\\t10\\t100\\n'\n",
      "['id\\tname\\teng\\tmath\\tsci', '1\\tsau\\t23\\t34\\t54', '2\\tdff\\t44\\t43\\t66', '3\\tsss\\t99\\t99\\t99', '4\\tdds\\t100\\t10\\t100', '']\n",
      "['1\\tsau\\t23\\t34\\t54', '2\\tdff\\t44\\t43\\t66', '3\\tsss\\t99\\t99\\t99', '4\\tdds\\t100\\t10\\t100']\n",
      "['1', 'sau', '23', '34', '54']\n",
      "['1', 'sau', 23, 34, 54, 37]\n",
      "['1', 'sau', '23', '34', '54', '37']\n",
      "['2', 'dff', '44', '43', '66']\n",
      "['2', 'dff', 44, 43, 66, 51]\n",
      "['2', 'dff', '44', '43', '66', '51']\n",
      "['3', 'sss', '99', '99', '99']\n",
      "['3', 'sss', 99, 99, 99, 99]\n",
      "['3', 'sss', '99', '99', '99', '99']\n",
      "['4', 'dds', '100', '10', '100']\n",
      "['4', 'dds', 100, 10, 100, 70]\n",
      "['4', 'dds', '100', '10', '100', '70']\n",
      "id\tname\teng\tmath\tsci\tresult\n",
      "1\tsau\t23\t34\t54\t37\n",
      "2\tdff\t44\t43\t66\t51\n",
      "3\tsss\t99\t99\t99\t99\n",
      "4\tdds\t100\t10\t100\t70\n"
     ]
    }
   ],
   "source": [
    "#processing data\n",
    "student = open(\"d:/IIHT/Student.txt\",mode = \"r\")\n",
    "d = student.read()\n",
    "print(d)\n",
    "print(repr(d))\n",
    "\n",
    "res = d.split(\"\\n\")\n",
    "print(repr(res))\n",
    "\n",
    "head = res[0]\n",
    "body = res[1:-1]\n",
    "print(body)\n",
    "\n",
    "result = []\n",
    "for line in body :\n",
    "    sp = line.split(\"\\t\")\n",
    "    \n",
    "    print(repr(sp))\n",
    "    \n",
    "    sp[2]=int(sp[2])\n",
    "    sp[3]=int(sp[3])\n",
    "    sp[4]=int(sp[4])\n",
    "    sp.append((sp[2]+sp[3]+sp[4])//3)\n",
    "    \n",
    "    print(repr(sp))\n",
    "    sp[2]=str(sp[2])\n",
    "    sp[3]=str(sp[3])\n",
    "    sp[4]=str(sp[4])\n",
    "    sp[5]=str(sp[5])\n",
    "    \n",
    "    print(repr(sp))\n",
    "    \n",
    "    sp = \"\\t\".join(sp)\n",
    "    result.append(sp)\n",
    "\n",
    "result = \"\\n\".join(result)\n",
    "\n",
    "x = head.split(\"\\t\")\n",
    "x.append(\"result\")\n",
    "x = \"\\t\".join(x)\n",
    "final = x + '\\n' + result\n",
    "print(final)\n",
    "\n",
    "student.close()"
   ]
  },
  {
   "cell_type": "code",
   "execution_count": 9,
   "metadata": {},
   "outputs": [],
   "source": [
    "#writing data to file\n",
    "d1 = open(\"d:/IIHT/student.txt\", mode = \"w\")\n",
    "d1.write(final)\n",
    "d1.close()"
   ]
  },
  {
   "cell_type": "code",
   "execution_count": 26,
   "metadata": {},
   "outputs": [
    {
     "name": "stdout",
     "output_type": "stream",
     "text": [
      "'id\\tname\\teng\\tmath\\tsci\\tresult\\n1\\tsau\\t23\\t34\\t54\\t37\\n2\\tdff\\t44\\t43\\t66\\t51\\n3\\tsss\\t99\\t99\\t99\\t99\\n4\\tdds\\t100\\t10\\t100\\t70'\n",
      "['id\\tname\\teng\\tmath\\tsci\\tresult', '1\\tsau\\t23\\t34\\t54\\t37', '2\\tdff\\t44\\t43\\t66\\t51', '3\\tsss\\t99\\t99\\t99\\t99', '4\\tdds\\t100\\t10\\t100\\t70']\n",
      "['1\\tsau\\t23\\t34\\t54\\t37', '2\\tdff\\t44\\t43\\t66\\t51', '3\\tsss\\t99\\t99\\t99\\t99', '4\\tdds\\t100\\t10\\t100\\t70']\n",
      "[['1', 'sau', '23', '34', '54', '37'], ['2', 'dff', '44', '43', '66', '51'], ['3', 'sss', '99', '99', '99', '99'], ['4', 'dds', '100', '10', '100', '70']]\n",
      "['1', '2', '3', '4']\n",
      "[['sau', '23', '34', '54', '37'], ['dff', '44', '43', '66', '51'], ['sss', '99', '99', '99', '99'], ['dds', '100', '10', '100', '70']]\n",
      "{'1': ['sau', '23', '34', '54', '37'], '2': ['dff', '44', '43', '66', '51'], '3': ['sss', '99', '99', '99', '99'], '4': ['dds', '100', '10', '100', '70']}\n"
     ]
    }
   ],
   "source": [
    "#storing data in dictionary\n",
    "data = open(\"d:/IIHT/File Handling/Student.txt\",mode=\"r\")\n",
    "d1 = data.read()\n",
    "print(repr(d1))\n",
    "d2 = d1.split(\"\\n\")\n",
    "print(repr(d2))\n",
    "body = d2[1:]\n",
    "print(body)\n",
    "l=[]\n",
    "for i in body :\n",
    "    i = i.split(\"\\t\")\n",
    "    l.append(i)\n",
    "print(l)\n",
    "l1 = []\n",
    "l2 = []\n",
    "for i in l :\n",
    "    l1.append(i[0])\n",
    "print(l1)\n",
    "for i in l :\n",
    "    l2.append(i[1:])\n",
    "print(l2)\n",
    "d = {}\n",
    "for (i,j) in zip(l1,l2) :\n",
    "    d.setdefault(i,j)\n",
    "print(d)"
   ]
  },
  {
   "cell_type": "code",
   "execution_count": 30,
   "metadata": {},
   "outputs": [
    {
     "name": "stdout",
     "output_type": "stream",
     "text": [
      "enter : 3\n",
      "['sss', '99', '99', '99', '99']\n"
     ]
    }
   ],
   "source": [
    "#Accessing data\n",
    "n = input(\"enter : \")\n",
    "print(d[n])"
   ]
  },
  {
   "cell_type": "code",
   "execution_count": null,
   "metadata": {},
   "outputs": [],
   "source": []
  }
 ],
 "metadata": {
  "kernelspec": {
   "display_name": "Python 3",
   "language": "python",
   "name": "python3"
  },
  "language_info": {
   "codemirror_mode": {
    "name": "ipython",
    "version": 3
   },
   "file_extension": ".py",
   "mimetype": "text/x-python",
   "name": "python",
   "nbconvert_exporter": "python",
   "pygments_lexer": "ipython3",
   "version": "3.7.3"
  }
 },
 "nbformat": 4,
 "nbformat_minor": 2
}
