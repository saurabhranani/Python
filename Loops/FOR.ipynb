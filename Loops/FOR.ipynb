{
 "cells": [
  {
   "cell_type": "code",
   "execution_count": 1,
   "metadata": {},
   "outputs": [
    {
     "data": {
      "text/plain": [
       "'syntax - for i in range() :\\n                statements\\nfor iterrable_variable in sequence :\\n'"
      ]
     },
     "execution_count": 1,
     "metadata": {},
     "output_type": "execute_result"
    }
   ],
   "source": [
    "\"\"\"syntax - for i in range() :\n",
    "                statements\n",
    "for iterrable_variable in sequence :\n",
    "\"\"\""
   ]
  },
  {
   "cell_type": "code",
   "execution_count": 2,
   "metadata": {},
   "outputs": [
    {
     "name": "stdout",
     "output_type": "stream",
     "text": [
      "hello world"
     ]
    }
   ],
   "source": [
    "l=\"hello world\"\n",
    "for i in l :\n",
    "    print(i, end=\"\") "
   ]
  },
  {
   "cell_type": "code",
   "execution_count": 3,
   "metadata": {},
   "outputs": [
    {
     "name": "stdout",
     "output_type": "stream",
     "text": [
      "hello world , 7 , 8.4 , 43 , "
     ]
    }
   ],
   "source": [
    "l=[\"hello world\",7,8.4,43]\n",
    "for i in l :\n",
    "    print(i, end=\" , \") "
   ]
  },
  {
   "cell_type": "code",
   "execution_count": 4,
   "metadata": {},
   "outputs": [
    {
     "name": "stdout",
     "output_type": "stream",
     "text": [
      "hello world\n"
     ]
    }
   ],
   "source": [
    "l=[\"hello world\"]\n",
    "for i in l :\n",
    "    #l.append(i)\n",
    "    print(i)"
   ]
  },
  {
   "cell_type": "code",
   "execution_count": 9,
   "metadata": {},
   "outputs": [
    {
     "name": "stdout",
     "output_type": "stream",
     "text": [
      "['S', 'R', 'R', 'R']\n"
     ]
    }
   ],
   "source": [
    "l=['saurabh','ranani','rahul','rony']\n",
    "l2=[]\n",
    "for i in range(0,len(l)) :\n",
    "    l2.append(l[i][0].upper())\n",
    "print(l2)"
   ]
  },
  {
   "cell_type": "code",
   "execution_count": 10,
   "metadata": {},
   "outputs": [
    {
     "name": "stdout",
     "output_type": "stream",
     "text": [
      "a\n"
     ]
    }
   ],
   "source": [
    "l=['saurabh','ranani',['rahul','rony']]\n",
    "print(l[2][0][1])"
   ]
  },
  {
   "cell_type": "code",
   "execution_count": 11,
   "metadata": {},
   "outputs": [
    {
     "name": "stdout",
     "output_type": "stream",
     "text": [
      "0\n",
      "5\n",
      "10\n",
      "15\n",
      "20\n",
      "25\n",
      "30\n",
      "35\n",
      "40\n",
      "45\n",
      "50\n",
      "55\n",
      "60\n",
      "65\n",
      "70\n",
      "75\n",
      "80\n",
      "85\n",
      "90\n",
      "95\n",
      "100\n"
     ]
    }
   ],
   "source": [
    "for i in range(0,101,+5):\n",
    "    print(i)"
   ]
  },
  {
   "cell_type": "code",
   "execution_count": 29,
   "metadata": {},
   "outputs": [
    {
     "name": "stdout",
     "output_type": "stream",
     "text": [
      "x x x x x x x x x x \n",
      "x x x x x x x x x x \n",
      "x x x x x x x x x x \n",
      "x x x x x x x x x x \n",
      "x x x x x x x x x x \n",
      "x x x x x x x x x x \n",
      "x x x x x x x x x x \n",
      "x x x x x x x x x x \n",
      "x x x x x x x x x x \n",
      "x x x x x x x x x x \n"
     ]
    }
   ],
   "source": [
    "for i in range(10) :\n",
    "    for j in range(10) :\n",
    "        print(\"x\", end = \" \")\n",
    "    print()"
   ]
  },
  {
   "cell_type": "code",
   "execution_count": 35,
   "metadata": {},
   "outputs": [
    {
     "name": "stdout",
     "output_type": "stream",
     "text": [
      "_ _ _ _ _ _ \n",
      "_ _ _ _ _ _ \n",
      "_ _ _ y _ _ \n",
      "_ _ _ _ _ _ \n",
      "_ _ _ _ _ _ \n",
      "_ _ _ _ _ _ \n"
     ]
    }
   ],
   "source": [
    "for i in range(6) :\n",
    "    for j in range(6) :\n",
    "        if i==2 and j==3 :\n",
    "            print(\"y\", end = \" \")\n",
    "        else:\n",
    "            print(\"_\", end = \" \")\n",
    "    print()"
   ]
  },
  {
   "cell_type": "code",
   "execution_count": 47,
   "metadata": {},
   "outputs": [
    {
     "name": "stdout",
     "output_type": "stream",
     "text": [
      "* _ _ _ _ _ * \n",
      "_ * _ _ _ * _ \n",
      "_ _ * _ * _ _ \n",
      "_ _ _ * _ _ _ \n",
      "_ _ * _ * _ _ \n",
      "_ * _ _ _ * _ \n",
      "* _ _ _ _ _ * \n"
     ]
    }
   ],
   "source": [
    "for i in range(7) :\n",
    "    for j in range(7) :\n",
    "        if i==j :\n",
    "            print(\"*\", end = \" \")\n",
    "        elif j==6-i :\n",
    "            print(\"*\", end = \" \")\n",
    "        else :\n",
    "            print(\"_\", end = \" \")\n",
    "    print()"
   ]
  },
  {
   "cell_type": "code",
   "execution_count": 71,
   "metadata": {},
   "outputs": [
    {
     "name": "stdout",
     "output_type": "stream",
     "text": [
      "* * * *           \n",
      "*         *       \n",
      "*           *     \n",
      "*         *       \n",
      "* * * *           \n",
      "*         *       \n",
      "*           *     \n",
      "*         *       \n",
      "* * * *           \n"
     ]
    }
   ],
   "source": [
    "for i in range(9) :\n",
    "    for j in range(9) :\n",
    "        if i in [0,4,8] and j<4 or j==0 :\n",
    "            print(\"*\", end = \" \")\n",
    "        elif i in [1,3,5,7] and j in [5] :\n",
    "            print(\"*\", end = \" \")\n",
    "        elif i in [2,6] and j==6 :\n",
    "            print(\"*\", end = \" \")\n",
    "        else :\n",
    "            print(\" \", end = \" \")\n",
    "    print()"
   ]
  },
  {
   "cell_type": "code",
   "execution_count": 75,
   "metadata": {},
   "outputs": [],
   "source": [
    "import random"
   ]
  },
  {
   "cell_type": "code",
   "execution_count": 79,
   "metadata": {},
   "outputs": [
    {
     "name": "stdout",
     "output_type": "stream",
     "text": [
      "[544, 846, 568, 748, 534, 985, 807, 540, 576, 848, 766, 957, 510, 867, 644, 665, 559, 694, 870, 522, 735, 787, 835, 506, 916, 839, 512, 774, 622, 622, 961, 811, 837, 554, 554, 796, 769, 651, 731, 674, 569, 528, 857, 686, 929, 584, 526, 522, 631, 698] "
     ]
    }
   ],
   "source": [
    "l=[]\n",
    "for i in range(50) :\n",
    "    l.append(random.randint(500,1000))\n",
    "print(l, end = \" \")"
   ]
  },
  {
   "cell_type": "code",
   "execution_count": 81,
   "metadata": {},
   "outputs": [
    {
     "name": "stdout",
     "output_type": "stream",
     "text": [
      "[518, 572, 883, 578, 905, 814, 586, 857, 774, 529, 870, 960, 822, 875, 948, 984, 731, 874, 928, 714, 606, 575, 614, 535, 989, 743, 691, 526, 774, 617, 756, 703, 876, 855, 537, 930, 812, 879, 586, 578, 563, 723, 730, 842, 623, 537, 680, 514, 633, 908] "
     ]
    }
   ],
   "source": [
    "#list comprehension\n",
    "l=[random.randint(500,1000) for i in range(50)]\n",
    "print(l, end = \" \")"
   ]
  },
  {
   "cell_type": "code",
   "execution_count": 96,
   "metadata": {},
   "outputs": [
    {
     "data": {
      "text/plain": [
       "[0, 11, 22, 33, 44]"
      ]
     },
     "execution_count": 96,
     "metadata": {},
     "output_type": "execute_result"
    }
   ],
   "source": [
    "l = [i for i in range(50) if i%11==0]\n",
    "l"
   ]
  },
  {
   "cell_type": "code",
   "execution_count": 108,
   "metadata": {},
   "outputs": [
    {
     "name": "stdout",
     "output_type": "stream",
     "text": [
      "[0, 1, 4, 27, 16, 125, 36, 343, 64, 729, 100, 1331, 144, 2197, 196, 3375, 256, 4913, 324, 6859, 400, 9261, 484, 12167, 576, 15625, 676, 19683, 784, 24389, 900, 29791, 1024, 35937, 1156, 42875, 1296, 50653, 1444, 59319, 1600, 68921, 1764, 79507, 1936, 91125, 2116, 103823, 2304, 117649, 2500, 132651, 2704, 148877, 2916, 166375, 3136, 185193, 3364, 205379, 3600, 226981, 3844, 250047, 4096, 274625, 4356, 300763, 4624, 328509, 4900, 357911, 5184, 389017, 5476, 421875, 5776, 456533, 6084, 493039, 6400, 531441, 6724, 571787, 7056, 614125, 7396, 658503, 7744, 704969, 8100, 753571, 8464, 804357, 8836, 857375, 9216, 912673, 9604, 970299, 10000]"
     ]
    }
   ],
   "source": [
    "l = [ i**2 if i%2==0 else i**3 for i in range(101) ]\n",
    "print(l, end = \"\")"
   ]
  },
  {
   "cell_type": "code",
   "execution_count": 123,
   "metadata": {},
   "outputs": [
    {
     "name": "stdout",
     "output_type": "stream",
     "text": [
      "[0, 1, 2, 3, 4, 5, 6, 7, 8, 9, 10, 11, 12, 13, 14, 15, 16, 17, 18, 19, 20, 21, 22, 23, 24, 25, 26, 27, 28, 29, 30, 31, 32, 33, 34, 35, 36, 37, 38, 39, 40, 41, 42, 43, 44, 45, 46, 47, 48, 49, 50, 51, 52, 53, 54, 55, 56, 57, 58, 59, 60, 61, 62, 63, 64, 65, 66, 67, 68, 69, 70, 71, 72, 73, 74, 75, 76, 77, 78, 79, 80, 81, 82, 83, 84, 85, 86, 87, 88, 89, 90, 91, 92, 93, 94, 95, 96, 97, 98, 99]"
     ]
    }
   ],
   "source": [
    "#tuple comprehension\n",
    "t = (i for i in range(100))\n",
    "print(list(t),end = \"\")\n",
    "#print(tuple(t),end = \"\")\n",
    "#print(*(t),end = \"\")"
   ]
  },
  {
   "cell_type": "code",
   "execution_count": 126,
   "metadata": {},
   "outputs": [
    {
     "name": "stdout",
     "output_type": "stream",
     "text": [
      "{1, 2, 3, 4, 5, 6, 7, 8, 9, 10}"
     ]
    }
   ],
   "source": [
    "#set comprehension\n",
    "s= {random.randint(1,10) for i in range(50)}\n",
    "print(s, end = \"\")"
   ]
  },
  {
   "cell_type": "code",
   "execution_count": null,
   "metadata": {},
   "outputs": [],
   "source": []
  }
 ],
 "metadata": {
  "kernelspec": {
   "display_name": "Python 3",
   "language": "python",
   "name": "python3"
  },
  "language_info": {
   "codemirror_mode": {
    "name": "ipython",
    "version": 3
   },
   "file_extension": ".py",
   "mimetype": "text/x-python",
   "name": "python",
   "nbconvert_exporter": "python",
   "pygments_lexer": "ipython3",
   "version": "3.7.3"
  }
 },
 "nbformat": 4,
 "nbformat_minor": 2
}
