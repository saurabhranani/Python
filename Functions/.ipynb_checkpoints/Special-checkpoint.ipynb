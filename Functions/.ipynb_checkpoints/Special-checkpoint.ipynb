{
 "cells": [
  {
   "cell_type": "code",
   "execution_count": 1,
   "metadata": {},
   "outputs": [
    {
     "data": {
      "text/plain": [
       "'\\nlambda\\nmap\\nfilter\\nenumrable\\nzip\\n'"
      ]
     },
     "execution_count": 1,
     "metadata": {},
     "output_type": "execute_result"
    }
   ],
   "source": [
    "#pre defined functions - \n",
    "\"\"\"\n",
    "lambda\n",
    "map\n",
    "filter\n",
    "enumrable\n",
    "zip\n",
    "\"\"\""
   ]
  },
  {
   "cell_type": "code",
   "execution_count": 2,
   "metadata": {},
   "outputs": [
    {
     "data": {
      "text/plain": [
       "30"
      ]
     },
     "execution_count": 2,
     "metadata": {},
     "output_type": "execute_result"
    }
   ],
   "source": [
    "#lambda\n",
    "add = lambda x,y : x+y\n",
    "add(10,20)"
   ]
  },
  {
   "cell_type": "code",
   "execution_count": 3,
   "metadata": {},
   "outputs": [
    {
     "data": {
      "text/plain": [
       "100"
      ]
     },
     "execution_count": 3,
     "metadata": {},
     "output_type": "execute_result"
    }
   ],
   "source": [
    "#lambda\n",
    "add = lambda x=1,y=1 : x*y\n",
    "add(10,10)"
   ]
  },
  {
   "cell_type": "code",
   "execution_count": 4,
   "metadata": {},
   "outputs": [
    {
     "data": {
      "text/plain": [
       "[0, 1, 4, 9, 16, 25, 36, 49, 64, 81, 100]"
      ]
     },
     "execution_count": 4,
     "metadata": {},
     "output_type": "execute_result"
    }
   ],
   "source": [
    "#map\n",
    "#syntax - map(function,iter)\n",
    "l=[]\n",
    "l = list(map(lambda x :x**2,range(11)))\n",
    "l"
   ]
  },
  {
   "cell_type": "code",
   "execution_count": 5,
   "metadata": {},
   "outputs": [
    {
     "name": "stdout",
     "output_type": "stream",
     "text": [
      "       \n",
      "       *\n",
      "      * *\n",
      "     * * *\n",
      "    * * * *\n",
      "   * * * * *\n"
     ]
    }
   ],
   "source": [
    "l=[]\n",
    "l=list(map(lambda x=1 : print(\" \"*(6-x),\" *\"*x),range(6)))"
   ]
  },
  {
   "cell_type": "code",
   "execution_count": 6,
   "metadata": {},
   "outputs": [
    {
     "name": "stdout",
     "output_type": "stream",
     "text": [
      "[0, 0, 0, 0, 5, 0, 0, 0, 0, 10, 0, 0, 0, 0, 15, 0, 0, 0, 0, 20, 0, 0, 0, 0, 25, 0, 0, 0, 0, 30, 0, 0, 0, 0, 35, 0, 0, 0, 0, 40, 0, 0, 0, 0, 45, 0, 0, 0, 0, 50, 0, 0, 0, 0, 55, 0, 0, 0, 0, 60, 0, 0, 0, 0, 65, 0, 0, 0, 0, 70, 0, 0, 0, 0, 75, 0, 0, 0, 0, 80, 0, 0, 0, 0, 85, 0, 0, 0, 0, 90, 0, 0, 0, 0, 95, 0, 0, 0, 0, 100]\n"
     ]
    }
   ],
   "source": [
    "l=list(map(lambda x : x if x%5==0 else 0, range(1,101)))\n",
    "print(l)"
   ]
  },
  {
   "cell_type": "code",
   "execution_count": 7,
   "metadata": {},
   "outputs": [
    {
     "name": "stdout",
     "output_type": "stream",
     "text": [
      "[0, 5, 10, 15, 20, 25, 30, 35, 40, 45, 50, 55, 60, 65, 70, 75, 80, 85, 90, 95, 100]\n"
     ]
    }
   ],
   "source": [
    "#filter - use to filter from sequence \n",
    "l=list(filter(lambda x : x%5==0 , range(101)))\n",
    "print(l)"
   ]
  },
  {
   "cell_type": "code",
   "execution_count": 8,
   "metadata": {},
   "outputs": [
    {
     "name": "stdout",
     "output_type": "stream",
     "text": [
      "0 1\n",
      "1 2\n",
      "2 3\n",
      "3 4\n",
      "4 5\n",
      "5 6\n",
      "6 7\n",
      "7 8\n",
      "8 9\n",
      "9 10\n"
     ]
    }
   ],
   "source": [
    "#Enumerable - use to find index of elements\n",
    "l=[1,2,3,4,5,6,7,8,9,10]\n",
    "for index,value in enumerate(l) :\n",
    "    print(index,value)"
   ]
  },
  {
   "cell_type": "code",
   "execution_count": 22,
   "metadata": {},
   "outputs": [
    {
     "name": "stdout",
     "output_type": "stream",
     "text": [
      "1 saurabh\n",
      "2 hello\n",
      "3 world\n",
      "4 tony\n",
      "5 stark\n"
     ]
    }
   ],
   "source": [
    "#zip - use to access elements of different list at same time\n",
    "l1=[1,2,3,4,5]\n",
    "l2=[\"saurabh\",\"hello\",\"world\",\"tony\",\"stark\"]\n",
    "for k,v in zip(l1,l2) :\n",
    "    print(k,v)"
   ]
  },
  {
   "cell_type": "code",
   "execution_count": 24,
   "metadata": {},
   "outputs": [
    {
     "data": {
      "text/plain": [
       "([1, 2, 3, 4, 5], ['saurabh', 'hello', 'world', 'tony', 'stark'])"
      ]
     },
     "execution_count": 24,
     "metadata": {},
     "output_type": "execute_result"
    }
   ],
   "source": [
    "l1,l2"
   ]
  },
  {
   "cell_type": "code",
   "execution_count": null,
   "metadata": {},
   "outputs": [],
   "source": []
  }
 ],
 "metadata": {
  "kernelspec": {
   "display_name": "Python 3",
   "language": "python",
   "name": "python3"
  },
  "language_info": {
   "codemirror_mode": {
    "name": "ipython",
    "version": 3
   },
   "file_extension": ".py",
   "mimetype": "text/x-python",
   "name": "python",
   "nbconvert_exporter": "python",
   "pygments_lexer": "ipython3",
   "version": "3.7.3"
  }
 },
 "nbformat": 4,
 "nbformat_minor": 2
}
