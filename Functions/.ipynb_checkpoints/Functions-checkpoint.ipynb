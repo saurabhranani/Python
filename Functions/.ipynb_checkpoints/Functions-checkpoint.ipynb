{
 "cells": [
  {
   "cell_type": "code",
   "execution_count": 1,
   "metadata": {},
   "outputs": [
    {
     "name": "stdout",
     "output_type": "stream",
     "text": [
      "its my function , print kr na\n"
     ]
    }
   ],
   "source": [
    "#syntax\n",
    "def my_function():\n",
    "    print(\"its my function , print kr na\")\n",
    "\n",
    "my_function()"
   ]
  },
  {
   "cell_type": "code",
   "execution_count": 2,
   "metadata": {},
   "outputs": [
    {
     "name": "stdout",
     "output_type": "stream",
     "text": [
      "its my function , print kr na :  lele aalu\n",
      "its my function , print kr na :  lele kacha aalu\n"
     ]
    }
   ],
   "source": [
    "#passing parameter\n",
    "def my_function(aalu) :\n",
    "    print(\"its my function , print kr na : \",aalu)\n",
    "\n",
    "my_function(\"lele aalu\")\n",
    "my_function(\"lele kacha aalu\")"
   ]
  },
  {
   "cell_type": "code",
   "execution_count": 3,
   "metadata": {},
   "outputs": [
    {
     "name": "stdout",
     "output_type": "stream",
     "text": [
      "its my function , print kr na :  lele aalu\n",
      "its my function , print kr na :  ni milega\n",
      "its my function , print kr na :  lele kacha aalu\n"
     ]
    }
   ],
   "source": [
    "#default parameter\n",
    "def my_function(aalu = \"ni milega\"):\n",
    "    print(\"its my function , print kr na : \",aalu)\n",
    "\n",
    "my_function(\"lele aalu\")\n",
    "my_function()\n",
    "my_function(\"lele kacha aalu\")"
   ]
  },
  {
   "cell_type": "code",
   "execution_count": 4,
   "metadata": {},
   "outputs": [
    {
     "name": "stdout",
     "output_type": "stream",
     "text": [
      "(5,)\n",
      "(5, 4)\n",
      "(5, 4, 3, 2, 1)\n"
     ]
    }
   ],
   "source": [
    "#keyword argument\n",
    "def keyword(*a) :\n",
    "    print(a)\n",
    "keyword(5)\n",
    "keyword(5,4)\n",
    "keyword(5,4,3,2,1)"
   ]
  },
  {
   "cell_type": "code",
   "execution_count": 13,
   "metadata": {},
   "outputs": [
    {
     "name": "stdout",
     "output_type": "stream",
     "text": [
      "9\n"
     ]
    }
   ],
   "source": [
    "#returing value\n",
    "def add(a=0,b=0):\n",
    "    return a+b\n",
    "print(add(5,4))"
   ]
  },
  {
   "cell_type": "code",
   "execution_count": null,
   "metadata": {},
   "outputs": [],
   "source": []
  }
 ],
 "metadata": {
  "kernelspec": {
   "display_name": "Python 3",
   "language": "python",
   "name": "python3"
  },
  "language_info": {
   "codemirror_mode": {
    "name": "ipython",
    "version": 3
   },
   "file_extension": ".py",
   "mimetype": "text/x-python",
   "name": "python",
   "nbconvert_exporter": "python",
   "pygments_lexer": "ipython3",
   "version": "3.7.3"
  }
 },
 "nbformat": 4,
 "nbformat_minor": 2
}
