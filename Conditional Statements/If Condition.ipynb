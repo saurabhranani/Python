{
 "cells": [
  {
   "cell_type": "code",
   "execution_count": 1,
   "metadata": {},
   "outputs": [],
   "source": [
    "#true - 1 , True , and everything  - execute if block\n",
    "#false - 0 , False , None , [] , '' , {} , () - else block execute "
   ]
  },
  {
   "cell_type": "code",
   "execution_count": 6,
   "metadata": {},
   "outputs": [
    {
     "name": "stdout",
     "output_type": "stream",
     "text": [
      "10\n"
     ]
    }
   ],
   "source": [
    "n=10\n",
    "if n%2 :\n",
    "    print(n)\n",
    "print(n)"
   ]
  },
  {
   "cell_type": "code",
   "execution_count": 8,
   "metadata": {},
   "outputs": [
    {
     "name": "stdout",
     "output_type": "stream",
     "text": [
      "something\n"
     ]
    }
   ],
   "source": [
    "if 'false' :\n",
    "    print(\"something\")"
   ]
  },
  {
   "cell_type": "code",
   "execution_count": 13,
   "metadata": {},
   "outputs": [
    {
     "name": "stdout",
     "output_type": "stream",
     "text": [
      "\n",
      "\n"
     ]
    }
   ],
   "source": [
    "n=input()\n",
    "if n :\n",
    "    print(\"abc\")\n",
    "print(n)"
   ]
  },
  {
   "cell_type": "code",
   "execution_count": 19,
   "metadata": {},
   "outputs": [
    {
     "name": "stdout",
     "output_type": "stream",
     "text": [
      "if\n"
     ]
    }
   ],
   "source": [
    "if [\"\"]:\n",
    "    print(\"if\")\n",
    "else:\n",
    "    print(\"else\")"
   ]
  },
  {
   "cell_type": "code",
   "execution_count": 20,
   "metadata": {},
   "outputs": [
    {
     "name": "stdout",
     "output_type": "stream",
     "text": [
      "else\n"
     ]
    }
   ],
   "source": [
    "if []:\n",
    "    print(\"if\")\n",
    "else:\n",
    "    print(\"else\")"
   ]
  },
  {
   "cell_type": "code",
   "execution_count": 22,
   "metadata": {},
   "outputs": [
    {
     "name": "stdout",
     "output_type": "stream",
     "text": [
      "else\n"
     ]
    }
   ],
   "source": [
    "if '':\n",
    "    print(\"if\")\n",
    "else:\n",
    "    print(\"else\")"
   ]
  },
  {
   "cell_type": "code",
   "execution_count": 25,
   "metadata": {},
   "outputs": [
    {
     "name": "stdout",
     "output_type": "stream",
     "text": [
      "elif\n"
     ]
    }
   ],
   "source": [
    "if '':\n",
    "    print(\"if\")\n",
    "elif \"n\":\n",
    "    print(\"elif\")\n",
    "else:\n",
    "    print(\"else\")"
   ]
  },
  {
   "cell_type": "code",
   "execution_count": 46,
   "metadata": {},
   "outputs": [
    {
     "name": "stdout",
     "output_type": "stream",
     "text": [
      "year:2017\n",
      "not leap\n"
     ]
    }
   ],
   "source": [
    "#find leap year\n",
    "year=int(input(\"year:\"))\n",
    "\n",
    "if year%100 :\n",
    "    if year%4 :\n",
    "        print(\"not leap\")\n",
    "    else :\n",
    "        print(\"leap\")\n",
    "else : \n",
    "    if year%400 :\n",
    "        print(\"leap\")\n",
    "    else :\n",
    "        print(\"not leap\")"
   ]
  },
  {
   "cell_type": "code",
   "execution_count": 56,
   "metadata": {},
   "outputs": [
    {
     "name": "stdout",
     "output_type": "stream",
     "text": [
      "enter password : Hello10\n",
      "poor password\n"
     ]
    }
   ],
   "source": [
    "#Wrong\n",
    "p = input(\"enter password : \")\n",
    "\n",
    "if p.__len__() < 6 or p.islower or p.isdigit :\n",
    "    print(\"poor password\")\n",
    "else :\n",
    "    print(\"good work\")"
   ]
  },
  {
   "cell_type": "code",
   "execution_count": 57,
   "metadata": {},
   "outputs": [
    {
     "ename": "SyntaxError",
     "evalue": "invalid syntax (<ipython-input-57-b31e979a390e>, line 8)",
     "output_type": "error",
     "traceback": [
      "\u001b[1;36m  File \u001b[1;32m\"<ipython-input-57-b31e979a390e>\"\u001b[1;36m, line \u001b[1;32m8\u001b[0m\n\u001b[1;33m    elif\u001b[0m\n\u001b[1;37m         ^\u001b[0m\n\u001b[1;31mSyntaxError\u001b[0m\u001b[1;31m:\u001b[0m invalid syntax\n"
     ]
    }
   ],
   "source": [
    "p = input(\"enter password : \")\n",
    "u,d,a = 0,0,0\n",
    "for i in p :\n",
    "    if i.isupper :\n",
    "        u += 1\n",
    "    elif i.isdigit :\n",
    "        d += 1\n",
    "    elif "
   ]
  },
  {
   "cell_type": "code",
   "execution_count": 70,
   "metadata": {},
   "outputs": [
    {
     "name": "stdout",
     "output_type": "stream",
     "text": [
      "Enter : 2100\n",
      "1 0 1 0 0 0\n"
     ]
    }
   ],
   "source": [
    "amt = int(input(\"Enter : \"))\n",
    "\n",
    "a,b,c,d,e,f = 0,0,0,0,0,0\n",
    "a = amt//2000\n",
    "amt = amt - (2000*a)\n",
    "b = amt//500\n",
    "amt = amt - (500*b)\n",
    "c = amt//100\n",
    "amt = amt - (100*c)\n",
    "d = amt//50\n",
    "amt = amt - (50*d)\n",
    "e = amt//20\n",
    "amt = amt - (20*e)\n",
    "f = amt//10\n",
    "amt = amt - (10*f)\n",
    "\n",
    "print(a,b,c,d,e,f)"
   ]
  },
  {
   "cell_type": "code",
   "execution_count": null,
   "metadata": {},
   "outputs": [],
   "source": []
  }
 ],
 "metadata": {
  "kernelspec": {
   "display_name": "Python 3",
   "language": "python",
   "name": "python3"
  },
  "language_info": {
   "codemirror_mode": {
    "name": "ipython",
    "version": 3
   },
   "file_extension": ".py",
   "mimetype": "text/x-python",
   "name": "python",
   "nbconvert_exporter": "python",
   "pygments_lexer": "ipython3",
   "version": "3.7.3"
  }
 },
 "nbformat": 4,
 "nbformat_minor": 2
}
