{
 "cells": [
  {
   "cell_type": "code",
   "execution_count": 7,
   "metadata": {},
   "outputs": [
    {
     "name": "stdout",
     "output_type": "stream",
     "text": [
      "enter : hello\n",
      "ha bhai\n",
      "enter : bye\n"
     ]
    }
   ],
   "source": [
    "import socket\n",
    "host = socket.gethostname()\n",
    "port=123\n",
    "s=socket.socket()\n",
    "s.bind((host,port))\n",
    "s.listen(1)\n",
    "con,addr = s.accept()\n",
    "def server() :\n",
    "    msg=input(\"enter : \")\n",
    "    if msg == \"bye\" :\n",
    "        con.send(msg.encode())\n",
    "        s.close()\n",
    "    else :\n",
    "        con.send(msg.encode())\n",
    "        data = con.recv(1024)\n",
    "        data = data.decode()\n",
    "        if data == \"bye\" :\n",
    "            print(data)\n",
    "            s.close()\n",
    "        else :\n",
    "            print(data)\n",
    "            server()\n",
    "server()"
   ]
  },
  {
   "cell_type": "code",
   "execution_count": null,
   "metadata": {},
   "outputs": [],
   "source": []
  },
  {
   "cell_type": "code",
   "execution_count": null,
   "metadata": {},
   "outputs": [],
   "source": []
  }
 ],
 "metadata": {
  "kernelspec": {
   "display_name": "Python 3",
   "language": "python",
   "name": "python3"
  },
  "language_info": {
   "codemirror_mode": {
    "name": "ipython",
    "version": 3
   },
   "file_extension": ".py",
   "mimetype": "text/x-python",
   "name": "python",
   "nbconvert_exporter": "python",
   "pygments_lexer": "ipython3",
   "version": "3.7.3"
  }
 },
 "nbformat": 4,
 "nbformat_minor": 2
}
