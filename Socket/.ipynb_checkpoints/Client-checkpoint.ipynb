{
 "cells": [
  {
   "cell_type": "code",
   "execution_count": 8,
   "metadata": {},
   "outputs": [
    {
     "name": "stdout",
     "output_type": "stream",
     "text": [
      "connection done\n",
      "hrll\n",
      "enter : bye\n"
     ]
    }
   ],
   "source": [
    "import socket\n",
    "s=socket.socket()\n",
    "host = socket.gethostname()\n",
    "port = 123\n",
    "s.connect((host,port))\n",
    "print(\"connection done\")\n",
    "def client() :\n",
    "    data = s.recv(1024)\n",
    "    data = data.decode()\n",
    "    if data == \"bye\" :\n",
    "        print(data)\n",
    "        s.close()\n",
    "    else :\n",
    "        print(data)\n",
    "        msg = input(\"enter : \")\n",
    "        if msg == \"bye\" :\n",
    "            s.send(msg.encode())\n",
    "            s.close()\n",
    "        else :\n",
    "            s.send(msg.encode())\n",
    "            client()\n",
    "client()"
   ]
  },
  {
   "cell_type": "code",
   "execution_count": null,
   "metadata": {},
   "outputs": [],
   "source": []
  }
 ],
 "metadata": {
  "kernelspec": {
   "display_name": "Python 3",
   "language": "python",
   "name": "python3"
  },
  "language_info": {
   "codemirror_mode": {
    "name": "ipython",
    "version": 3
   },
   "file_extension": ".py",
   "mimetype": "text/x-python",
   "name": "python",
   "nbconvert_exporter": "python",
   "pygments_lexer": "ipython3",
   "version": "3.7.3"
  }
 },
 "nbformat": 4,
 "nbformat_minor": 2
}
